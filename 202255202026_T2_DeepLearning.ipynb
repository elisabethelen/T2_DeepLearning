{
  "cells": [
    {
      "cell_type": "markdown",
      "metadata": {
        "id": "view-in-github",
        "colab_type": "text"
      },
      "source": [
        "<a href=\"https://colab.research.google.com/github/elisabethelen/T2_DeepLearning/blob/main/202255202026_T2_DeepLearning.ipynb\" target=\"_parent\"><img src=\"https://colab.research.google.com/assets/colab-badge.svg\" alt=\"Open In Colab\"/></a>"
      ]
    },
    {
      "cell_type": "markdown",
      "source": [
        "**Task Klasifikasi Gambar\n",
        "Menggunakan objek Piring dengan 4 kelas diantaranya Piring Kaca, Piring Plastik, Piring Melamin, Piring Keramik**"
      ],
      "metadata": {
        "id": "IvpMq-wtQjdy"
      }
    },
    {
      "cell_type": "markdown",
      "source": [
        "***Mount Google Drive***"
      ],
      "metadata": {
        "id": "ou3l_FLURZbd"
      }
    },
    {
      "cell_type": "code",
      "execution_count": 1,
      "metadata": {
        "colab": {
          "base_uri": "https://localhost:8080/"
        },
        "id": "KF2CM2_wzP9L",
        "outputId": "ea06bf1b-6d4a-46c5-c0eb-978654860d38"
      },
      "outputs": [
        {
          "output_type": "stream",
          "name": "stdout",
          "text": [
            "Mounted at /content/drive\n"
          ]
        }
      ],
      "source": [
        "# Mount Google Drive\n",
        "from google.colab import drive\n",
        "drive.mount('/content/drive')"
      ]
    },
    {
      "cell_type": "markdown",
      "source": [
        "***Import Necessary Libraries***"
      ],
      "metadata": {
        "id": "_0qTcY13KKkI"
      }
    },
    {
      "cell_type": "code",
      "execution_count": 2,
      "metadata": {
        "id": "qum5FlZ9zWrB"
      },
      "outputs": [],
      "source": [
        "# Import Libraries\n",
        "import os\n",
        "import numpy as np\n",
        "import matplotlib.pyplot as plt\n",
        "import torch\n",
        "import torch.nn as nn\n",
        "import torch.optim as optim\n",
        "from torchvision import datasets, models, transforms\n",
        "from torch.utils.data import DataLoader, random_split\n",
        "from torchvision.utils import make_grid"
      ]
    },
    {
      "cell_type": "code",
      "execution_count": 3,
      "metadata": {
        "colab": {
          "base_uri": "https://localhost:8080/"
        },
        "id": "gutxL2uBzXWD",
        "outputId": "21acc309-e351-479f-c40d-ac6592b2a71b"
      },
      "outputs": [
        {
          "output_type": "stream",
          "name": "stdout",
          "text": [
            "Device: cpu\n"
          ]
        }
      ],
      "source": [
        "# Cek device\n",
        "device = torch.device(\"cuda\" if torch.cuda.is_available() else \"cpu\")\n",
        "print(\"Device:\", device)"
      ]
    },
    {
      "cell_type": "code",
      "execution_count": 4,
      "metadata": {
        "id": "yziIHW0Uza1Y"
      },
      "outputs": [],
      "source": [
        "# Path ke dataset\n",
        "data_path = \"/content/drive/MyDrive/dataset\""
      ]
    },
    {
      "cell_type": "markdown",
      "source": [
        "***Load and Transform Data***"
      ],
      "metadata": {
        "id": "DIV1Jw7ENHZm"
      }
    },
    {
      "cell_type": "code",
      "execution_count": 5,
      "metadata": {
        "id": "6MbW1tj1zgBZ"
      },
      "outputs": [],
      "source": [
        "# ================= 3. Load and Transform Data =================\n",
        "train_transform = transforms.Compose([\n",
        "    transforms.RandomHorizontalFlip(),\n",
        "    transforms.RandomRotation(30),\n",
        "    transforms.RandomResizedCrop(224, scale=(0.7, 1.0)),\n",
        "    transforms.ColorJitter(brightness=0.3, contrast=0.3, saturation=0.3),\n",
        "    transforms.ToTensor(),\n",
        "    transforms.Normalize([0.5]*3, [0.5]*3)\n",
        "])\n",
        "\n",
        "test_transform = transforms.Compose([\n",
        "    transforms.Resize((224, 224)),\n",
        "    transforms.ToTensor(),\n",
        "    transforms.Normalize([0.5]*3, [0.5]*3)\n",
        "])"
      ]
    },
    {
      "cell_type": "code",
      "execution_count": 7,
      "metadata": {
        "id": "ZegEFIO01ynJ"
      },
      "outputs": [],
      "source": [
        "# ================= 4. Split Dataset =================\n",
        "# Ganti path berikut ke lokasi folder dataset Anda\n",
        "# root_dir = '/content/drive/MyDrive/dataset' # original\n",
        "root_dir = '/content/drive/MyDrive/dataset'  # Assuming dataset is directly under MyDrive\n",
        "data_dir = root_dir  # Update data_dir to the correct root directory\n",
        "\n",
        "# Tetapkan seed untuk reproduksibilitas\n",
        "seed = 42  # Anda dapat menggunakan nilai seed lain yang diinginkan\n",
        "\n",
        "# ================= 4. Split Dataset =================\n",
        "full_dataset = datasets.ImageFolder(root=data_dir, transform=train_transform)\n",
        "class_names = full_dataset.classes\n",
        "n_total = len(full_dataset)\n",
        "n_train = int(0.6 * n_total)\n",
        "n_val = int(0.2 * n_total)\n",
        "n_test = n_total - n_train - n_val\n",
        "\n",
        "train_set, val_set, test_set = random_split(full_dataset, [n_train, n_val, n_test],\n",
        "                                            generator=torch.Generator().manual_seed(seed))\n",
        "\n",
        "# Ganti transform untuk val dan test\n",
        "val_set.dataset.transform = test_transform\n",
        "test_set.dataset.transform = test_transform\n",
        "\n",
        "# Dataloader\n",
        "train_loader = DataLoader(train_set, batch_size=32, shuffle=True)\n",
        "val_loader = DataLoader(val_set, batch_size=32, shuffle=False)\n",
        "test_loader = DataLoader(test_set, batch_size=32, shuffle=False)"
      ]
    },
    {
      "cell_type": "markdown",
      "source": [
        "***Placing Data into a Dataframe***"
      ],
      "metadata": {
        "id": "dTNA1AV4NpgF"
      }
    },
    {
      "cell_type": "code",
      "source": [
        "import pandas as pd\n",
        "\n",
        "# Ambil list semua file dan label dari ImageFolder\n",
        "image_paths = [s[0] for s in full_dataset.samples]\n",
        "labels = [class_names[s[1]] for s in full_dataset.samples]\n",
        "\n",
        "# Buat DataFrame\n",
        "df = pd.DataFrame({\n",
        "    'filename': image_paths,\n",
        "    'label': labels\n",
        "})\n",
        "\n",
        "# Tampilkan 5 baris pertama\n",
        "print(df.head())"
      ],
      "metadata": {
        "colab": {
          "base_uri": "https://localhost:8080/"
        },
        "id": "vQE-tz_MNhIG",
        "outputId": "9d25c3c6-b185-4ebd-b214-433a375245f0"
      },
      "execution_count": 8,
      "outputs": [
        {
          "output_type": "stream",
          "name": "stdout",
          "text": [
            "                                            filename label\n",
            "0  /content/drive/MyDrive/dataset/kaca/IMG2025041...  kaca\n",
            "1  /content/drive/MyDrive/dataset/kaca/IMG2025041...  kaca\n",
            "2  /content/drive/MyDrive/dataset/kaca/IMG2025041...  kaca\n",
            "3  /content/drive/MyDrive/dataset/kaca/IMG2025041...  kaca\n",
            "4  /content/drive/MyDrive/dataset/kaca/IMG2025041...  kaca\n"
          ]
        }
      ]
    },
    {
      "cell_type": "markdown",
      "source": [
        "***Visualizing images from the dataset***"
      ],
      "metadata": {
        "id": "M_oEnqdROKFp"
      }
    },
    {
      "cell_type": "code",
      "execution_count": 9,
      "metadata": {
        "colab": {
          "base_uri": "https://localhost:8080/",
          "height": 184
        },
        "id": "1uyr8bou2zfB",
        "outputId": "0aa95767-d6a2-468f-d8e1-1f644930a4a9"
      },
      "outputs": [
        {
          "output_type": "display_data",
          "data": {
            "text/plain": [
              "<Figure size 640x480 with 1 Axes>"
            ],
            "image/png": "[encoded data removed]"
          },
          "metadata": {}
        }
      ],
      "source": [
        "# Tampilkan sample gambar\n",
        "\n",
        "import matplotlib.pyplot as plt\n",
        "import numpy as np\n",
        "import torch\n",
        "from torchvision.utils import make_grid\n",
        "\n",
        "# Fungsi untuk menampilkan gambar\n",
        "def imshow(inp, title=None):\n",
        "    inp = inp.numpy().transpose((1, 2, 0))\n",
        "    mean = np.array([0.485, 0.456, 0.406])\n",
        "    std = np.array([0.229, 0.224, 0.225])\n",
        "    inp = std * inp + mean\n",
        "    inp = np.clip(inp, 0, 1)\n",
        "    plt.imshow(inp)\n",
        "    if title:\n",
        "        plt.title(title)\n",
        "    plt.axis('off')\n",
        "    plt.show()\n",
        "\n",
        "# Ambil satu gambar dari masing-masing kelas\n",
        "def get_one_sample_per_class(dataloader, class_names):\n",
        "    samples = {}\n",
        "    for images, labels in dataloader:\n",
        "        for img, lbl in zip(images, labels):\n",
        "            class_name = class_names[lbl.item()]\n",
        "            if class_name not in samples:\n",
        "                samples[class_name] = (img, class_name)\n",
        "            if len(samples) == len(class_names):\n",
        "                break\n",
        "        if len(samples) == len(class_names):\n",
        "            break\n",
        "    return samples\n",
        "\n",
        "# Contoh penggunaan:\n",
        "samples = get_one_sample_per_class(train_loader, class_names)\n",
        "\n",
        "# Siapkan gambar dan label\n",
        "images = [img for img, _ in samples.values()]\n",
        "titles = [lbl for _, lbl in samples.values()]\n",
        "\n",
        "# Buat grid dan tampilkan\n",
        "imshow(make_grid(images), title=\", \".join(titles))"
      ]
    },
    {
      "cell_type": "markdown",
      "source": [
        "***Model Preparation dan Modifikasi***"
      ],
      "metadata": {
        "id": "uue2Ga_vPQPb"
      }
    },
    {
      "cell_type": "code",
      "execution_count": 10,
      "metadata": {
        "colab": {
          "base_uri": "https://localhost:8080/"
        },
        "id": "RfPtMAkp16A5",
        "outputId": "02700f42-a6ed-4e35-8b8e-0301565bc912"
      },
      "outputs": [
        {
          "output_type": "stream",
          "name": "stderr",
          "text": [
            "/usr/local/lib/python3.11/dist-packages/torchvision/models/_utils.py:208: UserWarning: The parameter 'pretrained' is deprecated since 0.13 and may be removed in the future, please use 'weights' instead.\n",
            "  warnings.warn(\n",
            "/usr/local/lib/python3.11/dist-packages/torchvision/models/_utils.py:223: UserWarning: Arguments other than a weight enum or `None` for 'weights' are deprecated since 0.13 and may be removed in the future. The current behavior is equivalent to passing `weights=ResNet18_Weights.IMAGENET1K_V1`. You can also use `weights=ResNet18_Weights.DEFAULT` to get the most up-to-date weights.\n",
            "  warnings.warn(msg)\n",
            "Downloading: \"https://download.pytorch.org/models/resnet18-f37072fd.pth\" to /root/.cache/torch/hub/checkpoints/resnet18-f37072fd.pth\n",
            "100%|██████████| 44.7M/44.7M [00:00<00:00, 140MB/s]\n"
          ]
        }
      ],
      "source": [
        "# Load model ResNet18 dan modifikasi classifier\n",
        "model = models.resnet18(pretrained=True)\n",
        "for param in model.parameters():\n",
        "    param.requires_grad = False  # freeze pretrained layers"
      ]
    },
    {
      "cell_type": "code",
      "execution_count": 11,
      "metadata": {
        "id": "JaI7FuC-2ITA"
      },
      "outputs": [],
      "source": [
        "# Custom classifier\n",
        "# Get the number of features from the last layer before your custom classifier\n",
        "# Since model.fc is a Linear object, access in_features directly\n",
        "num_ftrs = model.fc.in_features\n",
        "# Assuming you have 5 classes instead of 4 based on the error message\n",
        "num_classes = len(class_names)  # Get the actual number of classes from your dataset\n",
        "model.fc = nn.Sequential(\n",
        "    nn.Dropout(0.3),\n",
        "    nn.Linear(num_ftrs, num_classes)  # Update the output layer to match the number of classes\n",
        ")\n",
        "model = model.to(device)"
      ]
    },
    {
      "cell_type": "code",
      "execution_count": 12,
      "metadata": {
        "id": "a3IRoiwS2Lmk"
      },
      "outputs": [],
      "source": [
        "# Loss dan optimizer\n",
        "criterion = nn.CrossEntropyLoss()\n",
        "optimizer = optim.Adam(model.fc.parameters(), lr=0.001)"
      ]
    },
    {
      "cell_type": "markdown",
      "source": [
        "***Training the model***"
      ],
      "metadata": {
        "id": "MW3HbYa5Jzfw"
      }
    },
    {
      "cell_type": "code",
      "execution_count": null,
      "metadata": {
        "colab": {
          "base_uri": "https://localhost:8080/"
        },
        "id": "veRjy-lE3TAy",
        "outputId": "746339b2-977d-470f-89a0-3fd9de45840a"
      },
      "outputs": [
        {
          "output_type": "stream",
          "name": "stdout",
          "text": [
            "Epoch 1/50 | Train Loss: 0.9995 | Val Loss: 0.4520 | Val Acc: 0.9208\n",
            "Epoch 2/50 | Train Loss: 0.3985 | Val Loss: 0.2095 | Val Acc: 0.9875\n"
          ]
        }
      ],
      "source": [
        "# Training model\n",
        "epochs = 50\n",
        "train_losses, val_losses = [], []\n",
        "\n",
        "for epoch in range(epochs):\n",
        "    model.train()\n",
        "    running_loss = 0\n",
        "    for inputs, labels in train_loader:\n",
        "        inputs, labels = inputs.to(device), labels.to(device)\n",
        "\n",
        "        optimizer.zero_grad()\n",
        "        outputs = model(inputs)\n",
        "        loss = criterion(outputs, labels)\n",
        "        loss.backward()\n",
        "        optimizer.step()\n",
        "        running_loss += loss.item()\n",
        "\n",
        "    avg_train_loss = running_loss / len(train_loader)\n",
        "    train_losses.append(avg_train_loss)\n",
        "\n",
        "    model.eval()\n",
        "    val_loss = 0\n",
        "    correct = 0\n",
        "    total = 0\n",
        "    with torch.no_grad():\n",
        "        for inputs, labels in val_loader:\n",
        "            inputs, labels = inputs.to(device), labels.to(device)\n",
        "            outputs = model(inputs)\n",
        "            val_loss += criterion(outputs, labels).item()\n",
        "            _, predicted = torch.max(outputs, 1)\n",
        "            total += labels.size(0)\n",
        "            correct += (predicted == labels).sum().item()\n",
        "    val_acc = correct / total\n",
        "    avg_val_loss = val_loss / len(val_loader)\n",
        "    val_losses.append(avg_val_loss)\n",
        "\n",
        "    print(f\"Epoch {epoch+1}/{epochs} | Train Loss: {avg_train_loss:.4f} | Val Loss: {avg_val_loss:.4f} | Val Acc: {val_acc:.4f}\")"
      ]
    },
    {
      "cell_type": "markdown",
      "source": [
        "***Visualizing loss curves***"
      ],
      "metadata": {
        "id": "uWvecvCmMWrf"
      }
    },
    {
      "cell_type": "code",
      "execution_count": null,
      "metadata": {
        "id": "SXi6IHoT3c6W"
      },
      "outputs": [],
      "source": [
        "# Plot Loss\n",
        "plt.figure(figsize=(8,5))\n",
        "plt.plot(train_losses, label='Train Loss')\n",
        "plt.plot(val_losses, label='Val Loss')\n",
        "plt.legend()\n",
        "plt.title(\"Train & Val Loss\")\n",
        "plt.xlabel(\"Epochs\")\n",
        "plt.ylabel(\"Loss\")\n",
        "plt.show()"
      ]
    },
    {
      "cell_type": "markdown",
      "source": [
        "***Making predictions on the Test Data***"
      ],
      "metadata": {
        "id": "o97v0Jr2Jqxr"
      }
    },
    {
      "cell_type": "code",
      "execution_count": null,
      "metadata": {
        "id": "uGzPoHZSoip0"
      },
      "outputs": [],
      "source": [
        "# Evaluasi Test\n",
        "model.eval()\n",
        "correct = 0\n",
        "total = 0\n",
        "with torch.no_grad():\n",
        "    for inputs, labels in test_loader:\n",
        "        inputs, labels = inputs.to(device), labels.to(device)\n",
        "        outputs = model(inputs)\n",
        "        _, predicted = torch.max(outputs, 1)\n",
        "        total += labels.size(0)\n",
        "        correct += (predicted == labels).sum().item()\n",
        "test_acc = correct / total\n",
        "print(f\"Test Accuracy: {test_acc*100:.2f}%\")"
      ]
    },
    {
      "cell_type": "markdown",
      "source": [
        "***Model Evaluation***"
      ],
      "metadata": {
        "id": "rXRmEuWXMsYv"
      }
    },
    {
      "cell_type": "code",
      "source": [
        "import seaborn as sns\n",
        "from sklearn.metrics import classification_report, confusion_matrix\n",
        "\n",
        "model.eval()\n",
        "y_true, y_pred = [], []\n",
        "\n",
        "with torch.no_grad():\n",
        "    for images, labels in test_loader:\n",
        "        images = images.to(device)\n",
        "        outputs = model(images)\n",
        "        _, preds = torch.max(outputs, 1)\n",
        "        y_true.extend(labels.numpy())\n",
        "        y_pred.extend(preds.cpu().numpy())\n",
        "\n",
        "print(classification_report(y_true, y_pred, target_names=class_names))\n",
        "\n",
        "cm = confusion_matrix(y_true, y_pred)\n",
        "plt.figure(figsize=(8,6))\n",
        "sns.heatmap(cm, annot=True, fmt=\"d\", xticklabels=class_names, yticklabels=class_names, cmap=\"Blues\")\n",
        "plt.xlabel(\"Predicted\")\n",
        "plt.ylabel(\"Actual\")\n",
        "plt.title(\"Confusion Matrix\")\n",
        "plt.show()"
      ],
      "metadata": {
        "id": "JA1Hw8ByDm_P"
      },
      "execution_count": null,
      "outputs": []
    },
    {
      "cell_type": "markdown",
      "source": [
        "***Computing Error Rate Analysis***"
      ],
      "metadata": {
        "id": "FHhy1VZCQVOw"
      }
    },
    {
      "cell_type": "code",
      "source": [
        "# Error Rate Analysis\n",
        "test_error_rate = 1 - test_acc\n",
        "print(f\"Test Error Rate: {test_error_rate*100:.2f}%\")"
      ],
      "metadata": {
        "id": "ixqI-Mn4P4x6"
      },
      "execution_count": null,
      "outputs": []
    },
    {
      "cell_type": "markdown",
      "source": [
        "***Grad-Cam Visualization***"
      ],
      "metadata": {
        "id": "6-MU273fI3At"
      }
    },
    {
      "cell_type": "code",
      "source": [
        "# ====== 13. Grad-CAM Hooks ======\n",
        "features_blobs = []\n",
        "gradients = []\n",
        "\n",
        "def hook_feature(module, input, output):\n",
        "    features_blobs.append(output)\n",
        "\n",
        "def hook_gradient(module, grad_in, grad_out):\n",
        "    gradients.append(grad_out[0])\n",
        "\n",
        "# ====== Pasang Hook pada Layer Terakhir Convolution ======\n",
        "final_conv = model.layer4[1].conv2\n",
        "final_conv.register_forward_hook(hook_feature)\n",
        "final_conv.register_backward_hook(hook_gradient)\n",
        "\n",
        "# ====== Fungsi Generate Grad-CAM ======\n",
        "import numpy as np\n",
        "import cv2\n",
        "\n",
        "def generate_gradcam(input_tensor, class_idx=None):\n",
        "    model.eval()\n",
        "    features_blobs.clear()\n",
        "    gradients.clear()\n",
        "\n",
        "    output = model(input_tensor)\n",
        "\n",
        "    if class_idx is None:\n",
        "        class_idx = torch.argmax(output).item()\n",
        "\n",
        "    model.zero_grad()\n",
        "    class_score = output[0, class_idx]\n",
        "    class_score.backward()\n",
        "\n",
        "    grads_val = gradients[0].cpu().data.numpy()\n",
        "    fmap = features_blobs[0].cpu().data.numpy()\n",
        "\n",
        "    weights = np.mean(grads_val, axis=(2, 3))[0, :]\n",
        "\n",
        "    cam = np.zeros(fmap.shape[2:], dtype=np.float32)\n",
        "    for i, w in enumerate(weights):\n",
        "        cam += w * fmap[0, i, :, :]\n",
        "\n",
        "    cam = np.maximum(cam, 0)\n",
        "    cam = cv2.resize(cam, (224, 224))\n",
        "    cam -= np.min(cam)\n",
        "    cam /= np.max(cam)\n",
        "    return cam\n",
        "\n",
        "# ====== Fungsi Visualisasi Grad-CAM ======\n",
        "import matplotlib.pyplot as plt\n",
        "\n",
        "def show_gradcam(image_tensor, cam, title='Grad-CAM'):\n",
        "    image_np = image_tensor.squeeze().permute(1, 2, 0).cpu().numpy()\n",
        "    image_np = (image_np * 0.5) + 0.5  # denormalisasi\n",
        "\n",
        "    heatmap = cv2.applyColorMap(np.uint8(255 * cam), cv2.COLORMAP_JET)\n",
        "    heatmap = np.float32(heatmap) / 255\n",
        "    overlay = heatmap + image_np\n",
        "    overlay = overlay / np.max(overlay)\n",
        "\n",
        "    plt.figure(figsize=(6, 6))\n",
        "    plt.imshow(overlay)\n",
        "    plt.axis('off')\n",
        "    plt.title(title)\n",
        "    plt.show()\n",
        "\n",
        "# ====== Contoh Pemakaian Grad-CAM dari Test Loader ======\n",
        "dataiter = iter(test_loader)\n",
        "images, labels = next(dataiter)\n",
        "\n",
        "input_img = images[0].unsqueeze(0).to(device)\n",
        "label = labels[0].item()\n",
        "\n",
        "cam = generate_gradcam(input_img)\n",
        "show_gradcam(images[0], cam, title=f\"Grad-CAM (Label: {label})\")"
      ],
      "metadata": {
        "id": "f1is7HEFHuXk"
      },
      "execution_count": null,
      "outputs": []
    },
    {
      "cell_type": "code",
      "source": [
        "class GradCAM:\n",
        "    def __init__(self, model, target_layer):\n",
        "        self.model = model.eval()\n",
        "        self.gradients = None\n",
        "        self.activations = None\n",
        "        self.target_layer = target_layer\n",
        "        self.hook()\n",
        "\n",
        "    def hook(self):\n",
        "        def forward_hook(module, input, output):\n",
        "            self.activations = output.detach()\n",
        "        def backward_hook(module, grad_input, grad_output):\n",
        "            self.gradients = grad_output[0].detach()\n",
        "        self.target_layer.register_forward_hook(forward_hook)\n",
        "        self.target_layer.register_backward_hook(backward_hook)\n",
        "\n",
        "    def generate_cam(self, input_tensor, class_idx=None):\n",
        "        input_tensor = input_tensor.unsqueeze(0).to(device)\n",
        "        output = self.model(input_tensor)\n",
        "        if class_idx is None:\n",
        "            class_idx = torch.argmax(output)\n",
        "        self.model.zero_grad()\n",
        "        output[0, class_idx].backward()\n",
        "        weights = torch.mean(self.gradients, dim=(2, 3), keepdim=True)\n",
        "        cam = torch.sum(weights * self.activations, dim=1).squeeze()\n",
        "        cam = torch.relu(cam)\n",
        "        cam = cam - cam.min()\n",
        "        cam = cam / cam.max()\n",
        "        return cam.cpu().numpy()\n",
        "\n",
        "def show_gradcam(image_tensor, cam, alpha=0.5):\n",
        "    image = image_tensor.permute(1, 2, 0).cpu().numpy()\n",
        "    image = (image - image.min()) / (image.max() - image.min())\n",
        "    heatmap = cv2.applyColorMap(np.uint8(255 * cam), cv2.COLORMAP_JET)\n",
        "    heatmap = cv2.cvtColor(heatmap, cv2.COLOR_BGR2RGB)\n",
        "    heatmap = cv2.resize(heatmap, (224, 224))\n",
        "    overlay = heatmap * alpha + image * 255\n",
        "    plt.imshow(overlay.astype(np.uint8))\n",
        "    plt.axis('off')\n",
        "    plt.title(\"Grad-CAM Result\")\n",
        "    plt.show()\n",
        "\n",
        "# Contoh Grad-CAM\n",
        "sample_imgs, _ = next(iter(test_loader))\n",
        "sample_img = sample_imgs[0].to(device)\n",
        "resnet_layer = model.layer4[1].conv2\n",
        "gradcam = GradCAM(model, resnet_layer)\n",
        "cam = gradcam.generate_cam(sample_img)\n",
        "show_gradcam(sample_imgs[0], cam)"
      ],
      "metadata": {
        "id": "NL7tMyTxK3ne"
      },
      "execution_count": null,
      "outputs": []
    }
  ],
  "metadata": {
    "colab": {
      "provenance": [],
      "authorship_tag": "ABX9TyMVzZzkwD5B7+FkjgU3WZY4",
      "include_colab_link": true
    },
    "kernelspec": {
      "display_name": "Python 3",
      "name": "python3"
    },
    "language_info": {
      "name": "python"
    }
  },
  "nbformat": 4,
  "nbformat_minor": 0
}